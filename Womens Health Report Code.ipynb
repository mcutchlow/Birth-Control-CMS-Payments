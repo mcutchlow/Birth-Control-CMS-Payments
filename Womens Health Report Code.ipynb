{
 "cells": [
  {
   "cell_type": "code",
   "execution_count": 68,
   "metadata": {},
   "outputs": [],
   "source": [
    "import numpy as np\n",
    "import pandas as pd\n",
    "import warnings\n",
    "warnings.simplefilter('ignore', FutureWarning)\n",
    "import datetime\n",
    "from datetime import datetime\n",
    "from datetime import date\n",
    "import calendar\n",
    "import matplotlib as mpl\n",
    "%matplotlib inline\n",
    "import matplotlib.pyplot as plt\n",
    "plt.style.use('fivethirtyeight')"
   ]
  },
  {
   "cell_type": "code",
   "execution_count": 2,
   "metadata": {},
   "outputs": [
    {
     "name": "stderr",
     "output_type": "stream",
     "text": [
      "/opt/conda/lib/python3.8/site-packages/IPython/core/interactiveshell.py:3165: DtypeWarning: Columns (4,40,42,43,63,64,65,66) have mixed types.Specify dtype option on import or set low_memory=False.\n",
      "  has_raised = await self.run_ast_nodes(code_ast.body, cell_name,\n"
     ]
    },
    {
     "data": {
      "text/html": [
       "<div>\n",
       "<style scoped>\n",
       "    .dataframe tbody tr th:only-of-type {\n",
       "        vertical-align: middle;\n",
       "    }\n",
       "\n",
       "    .dataframe tbody tr th {\n",
       "        vertical-align: top;\n",
       "    }\n",
       "\n",
       "    .dataframe thead th {\n",
       "        text-align: right;\n",
       "    }\n",
       "</style>\n",
       "<table border=\"1\" class=\"dataframe\">\n",
       "  <thead>\n",
       "    <tr style=\"text-align: right;\">\n",
       "      <th></th>\n",
       "      <th>change_type</th>\n",
       "      <th>covered_recipient_type</th>\n",
       "      <th>teaching_hospital_ccn</th>\n",
       "      <th>teaching_hospital_id</th>\n",
       "      <th>teaching_hospital_name</th>\n",
       "      <th>physician_profile_id</th>\n",
       "      <th>physician_first_name</th>\n",
       "      <th>physician_middle_name</th>\n",
       "      <th>physician_last_name</th>\n",
       "      <th>physician_name_suffix</th>\n",
       "      <th>...</th>\n",
       "      <th>product_category_or_therapeutic_area_4</th>\n",
       "      <th>name_of_drug_or_biological_or_device_or_medical_supply_4</th>\n",
       "      <th>associated_drug_or_biological_ndc_4</th>\n",
       "      <th>covered_or_noncovered_indicator_5</th>\n",
       "      <th>indicate_drug_or_biological_or_device_or_medical_supply_5</th>\n",
       "      <th>product_category_or_therapeutic_area_5</th>\n",
       "      <th>name_of_drug_or_biological_or_device_or_medical_supply_5</th>\n",
       "      <th>associated_drug_or_biological_ndc_5</th>\n",
       "      <th>program_year</th>\n",
       "      <th>payment_publication_date</th>\n",
       "    </tr>\n",
       "  </thead>\n",
       "  <tbody>\n",
       "    <tr>\n",
       "      <th>0</th>\n",
       "      <td>UNCHANGED</td>\n",
       "      <td>Covered Recipient Physician</td>\n",
       "      <td>NaN</td>\n",
       "      <td>NaN</td>\n",
       "      <td>NaN</td>\n",
       "      <td>222922.0</td>\n",
       "      <td>MEGHAN</td>\n",
       "      <td>E</td>\n",
       "      <td>LYNCH</td>\n",
       "      <td>NaN</td>\n",
       "      <td>...</td>\n",
       "      <td>NaN</td>\n",
       "      <td>NaN</td>\n",
       "      <td>NaN</td>\n",
       "      <td>NaN</td>\n",
       "      <td>NaN</td>\n",
       "      <td>NaN</td>\n",
       "      <td>NaN</td>\n",
       "      <td>NaN</td>\n",
       "      <td>2020</td>\n",
       "      <td>01/21/2022</td>\n",
       "    </tr>\n",
       "    <tr>\n",
       "      <th>1</th>\n",
       "      <td>UNCHANGED</td>\n",
       "      <td>Covered Recipient Physician</td>\n",
       "      <td>NaN</td>\n",
       "      <td>NaN</td>\n",
       "      <td>NaN</td>\n",
       "      <td>361781.0</td>\n",
       "      <td>KAREN</td>\n",
       "      <td>H</td>\n",
       "      <td>HALLMARK</td>\n",
       "      <td>NaN</td>\n",
       "      <td>...</td>\n",
       "      <td>NaN</td>\n",
       "      <td>NaN</td>\n",
       "      <td>NaN</td>\n",
       "      <td>NaN</td>\n",
       "      <td>NaN</td>\n",
       "      <td>NaN</td>\n",
       "      <td>NaN</td>\n",
       "      <td>NaN</td>\n",
       "      <td>2020</td>\n",
       "      <td>01/21/2022</td>\n",
       "    </tr>\n",
       "    <tr>\n",
       "      <th>2</th>\n",
       "      <td>UNCHANGED</td>\n",
       "      <td>Covered Recipient Physician</td>\n",
       "      <td>NaN</td>\n",
       "      <td>NaN</td>\n",
       "      <td>NaN</td>\n",
       "      <td>953706.0</td>\n",
       "      <td>NANCY</td>\n",
       "      <td>N</td>\n",
       "      <td>THOMAS</td>\n",
       "      <td>NaN</td>\n",
       "      <td>...</td>\n",
       "      <td>NaN</td>\n",
       "      <td>NaN</td>\n",
       "      <td>NaN</td>\n",
       "      <td>NaN</td>\n",
       "      <td>NaN</td>\n",
       "      <td>NaN</td>\n",
       "      <td>NaN</td>\n",
       "      <td>NaN</td>\n",
       "      <td>2020</td>\n",
       "      <td>01/21/2022</td>\n",
       "    </tr>\n",
       "    <tr>\n",
       "      <th>3</th>\n",
       "      <td>UNCHANGED</td>\n",
       "      <td>Covered Recipient Physician</td>\n",
       "      <td>NaN</td>\n",
       "      <td>NaN</td>\n",
       "      <td>NaN</td>\n",
       "      <td>262063.0</td>\n",
       "      <td>LAURI</td>\n",
       "      <td>W</td>\n",
       "      <td>BULLEN</td>\n",
       "      <td>NaN</td>\n",
       "      <td>...</td>\n",
       "      <td>NaN</td>\n",
       "      <td>NaN</td>\n",
       "      <td>NaN</td>\n",
       "      <td>NaN</td>\n",
       "      <td>NaN</td>\n",
       "      <td>NaN</td>\n",
       "      <td>NaN</td>\n",
       "      <td>NaN</td>\n",
       "      <td>2020</td>\n",
       "      <td>01/21/2022</td>\n",
       "    </tr>\n",
       "    <tr>\n",
       "      <th>4</th>\n",
       "      <td>UNCHANGED</td>\n",
       "      <td>Covered Recipient Physician</td>\n",
       "      <td>NaN</td>\n",
       "      <td>NaN</td>\n",
       "      <td>NaN</td>\n",
       "      <td>14903.0</td>\n",
       "      <td>DANIEL</td>\n",
       "      <td>P</td>\n",
       "      <td>MOKRY</td>\n",
       "      <td>NaN</td>\n",
       "      <td>...</td>\n",
       "      <td>NaN</td>\n",
       "      <td>NaN</td>\n",
       "      <td>NaN</td>\n",
       "      <td>NaN</td>\n",
       "      <td>NaN</td>\n",
       "      <td>NaN</td>\n",
       "      <td>NaN</td>\n",
       "      <td>NaN</td>\n",
       "      <td>2020</td>\n",
       "      <td>01/21/2022</td>\n",
       "    </tr>\n",
       "    <tr>\n",
       "      <th>...</th>\n",
       "      <td>...</td>\n",
       "      <td>...</td>\n",
       "      <td>...</td>\n",
       "      <td>...</td>\n",
       "      <td>...</td>\n",
       "      <td>...</td>\n",
       "      <td>...</td>\n",
       "      <td>...</td>\n",
       "      <td>...</td>\n",
       "      <td>...</td>\n",
       "      <td>...</td>\n",
       "      <td>...</td>\n",
       "      <td>...</td>\n",
       "      <td>...</td>\n",
       "      <td>...</td>\n",
       "      <td>...</td>\n",
       "      <td>...</td>\n",
       "      <td>...</td>\n",
       "      <td>...</td>\n",
       "      <td>...</td>\n",
       "      <td>...</td>\n",
       "    </tr>\n",
       "    <tr>\n",
       "      <th>80765</th>\n",
       "      <td>CHANGED</td>\n",
       "      <td>Covered Recipient Physician</td>\n",
       "      <td>NaN</td>\n",
       "      <td>NaN</td>\n",
       "      <td>NaN</td>\n",
       "      <td>222698.0</td>\n",
       "      <td>STEVEN</td>\n",
       "      <td>GARTH</td>\n",
       "      <td>NELSON</td>\n",
       "      <td>NaN</td>\n",
       "      <td>...</td>\n",
       "      <td>NaN</td>\n",
       "      <td>NaN</td>\n",
       "      <td>NaN</td>\n",
       "      <td>NaN</td>\n",
       "      <td>NaN</td>\n",
       "      <td>NaN</td>\n",
       "      <td>NaN</td>\n",
       "      <td>NaN</td>\n",
       "      <td>2020</td>\n",
       "      <td>01/21/2022</td>\n",
       "    </tr>\n",
       "    <tr>\n",
       "      <th>80766</th>\n",
       "      <td>CHANGED</td>\n",
       "      <td>Covered Recipient Physician</td>\n",
       "      <td>NaN</td>\n",
       "      <td>NaN</td>\n",
       "      <td>NaN</td>\n",
       "      <td>328265.0</td>\n",
       "      <td>JUDDSON</td>\n",
       "      <td>D</td>\n",
       "      <td>LINDLEY</td>\n",
       "      <td>NaN</td>\n",
       "      <td>...</td>\n",
       "      <td>NaN</td>\n",
       "      <td>NaN</td>\n",
       "      <td>NaN</td>\n",
       "      <td>NaN</td>\n",
       "      <td>NaN</td>\n",
       "      <td>NaN</td>\n",
       "      <td>NaN</td>\n",
       "      <td>NaN</td>\n",
       "      <td>2020</td>\n",
       "      <td>01/21/2022</td>\n",
       "    </tr>\n",
       "    <tr>\n",
       "      <th>80767</th>\n",
       "      <td>CHANGED</td>\n",
       "      <td>Covered Recipient Physician</td>\n",
       "      <td>NaN</td>\n",
       "      <td>NaN</td>\n",
       "      <td>NaN</td>\n",
       "      <td>155386.0</td>\n",
       "      <td>MIRIAM</td>\n",
       "      <td>L</td>\n",
       "      <td>CREMER</td>\n",
       "      <td>NaN</td>\n",
       "      <td>...</td>\n",
       "      <td>NaN</td>\n",
       "      <td>NaN</td>\n",
       "      <td>NaN</td>\n",
       "      <td>NaN</td>\n",
       "      <td>NaN</td>\n",
       "      <td>NaN</td>\n",
       "      <td>NaN</td>\n",
       "      <td>NaN</td>\n",
       "      <td>2020</td>\n",
       "      <td>01/21/2022</td>\n",
       "    </tr>\n",
       "    <tr>\n",
       "      <th>80768</th>\n",
       "      <td>CHANGED</td>\n",
       "      <td>Covered Recipient Physician</td>\n",
       "      <td>NaN</td>\n",
       "      <td>NaN</td>\n",
       "      <td>NaN</td>\n",
       "      <td>252261.0</td>\n",
       "      <td>BARBARA</td>\n",
       "      <td>ANNE</td>\n",
       "      <td>KAMER-THOMPSON</td>\n",
       "      <td>NaN</td>\n",
       "      <td>...</td>\n",
       "      <td>NaN</td>\n",
       "      <td>NaN</td>\n",
       "      <td>NaN</td>\n",
       "      <td>NaN</td>\n",
       "      <td>NaN</td>\n",
       "      <td>NaN</td>\n",
       "      <td>NaN</td>\n",
       "      <td>NaN</td>\n",
       "      <td>2020</td>\n",
       "      <td>01/21/2022</td>\n",
       "    </tr>\n",
       "    <tr>\n",
       "      <th>80769</th>\n",
       "      <td>CHANGED</td>\n",
       "      <td>Covered Recipient Physician</td>\n",
       "      <td>NaN</td>\n",
       "      <td>NaN</td>\n",
       "      <td>NaN</td>\n",
       "      <td>163497.0</td>\n",
       "      <td>RACHEL</td>\n",
       "      <td>NaN</td>\n",
       "      <td>MASCH</td>\n",
       "      <td>NaN</td>\n",
       "      <td>...</td>\n",
       "      <td>NaN</td>\n",
       "      <td>NaN</td>\n",
       "      <td>NaN</td>\n",
       "      <td>NaN</td>\n",
       "      <td>NaN</td>\n",
       "      <td>NaN</td>\n",
       "      <td>NaN</td>\n",
       "      <td>NaN</td>\n",
       "      <td>2020</td>\n",
       "      <td>01/21/2022</td>\n",
       "    </tr>\n",
       "  </tbody>\n",
       "</table>\n",
       "<p>80770 rows × 75 columns</p>\n",
       "</div>"
      ],
      "text/plain": [
       "      change_type       covered_recipient_type  teaching_hospital_ccn  \\\n",
       "0       UNCHANGED  Covered Recipient Physician                    NaN   \n",
       "1       UNCHANGED  Covered Recipient Physician                    NaN   \n",
       "2       UNCHANGED  Covered Recipient Physician                    NaN   \n",
       "3       UNCHANGED  Covered Recipient Physician                    NaN   \n",
       "4       UNCHANGED  Covered Recipient Physician                    NaN   \n",
       "...           ...                          ...                    ...   \n",
       "80765     CHANGED  Covered Recipient Physician                    NaN   \n",
       "80766     CHANGED  Covered Recipient Physician                    NaN   \n",
       "80767     CHANGED  Covered Recipient Physician                    NaN   \n",
       "80768     CHANGED  Covered Recipient Physician                    NaN   \n",
       "80769     CHANGED  Covered Recipient Physician                    NaN   \n",
       "\n",
       "       teaching_hospital_id teaching_hospital_name  physician_profile_id  \\\n",
       "0                       NaN                    NaN              222922.0   \n",
       "1                       NaN                    NaN              361781.0   \n",
       "2                       NaN                    NaN              953706.0   \n",
       "3                       NaN                    NaN              262063.0   \n",
       "4                       NaN                    NaN               14903.0   \n",
       "...                     ...                    ...                   ...   \n",
       "80765                   NaN                    NaN              222698.0   \n",
       "80766                   NaN                    NaN              328265.0   \n",
       "80767                   NaN                    NaN              155386.0   \n",
       "80768                   NaN                    NaN              252261.0   \n",
       "80769                   NaN                    NaN              163497.0   \n",
       "\n",
       "      physician_first_name physician_middle_name physician_last_name  \\\n",
       "0                   MEGHAN                     E               LYNCH   \n",
       "1                    KAREN                     H            HALLMARK   \n",
       "2                    NANCY                     N              THOMAS   \n",
       "3                    LAURI                     W              BULLEN   \n",
       "4                   DANIEL                     P               MOKRY   \n",
       "...                    ...                   ...                 ...   \n",
       "80765               STEVEN                 GARTH              NELSON   \n",
       "80766              JUDDSON                     D             LINDLEY   \n",
       "80767               MIRIAM                     L              CREMER   \n",
       "80768              BARBARA                  ANNE      KAMER-THOMPSON   \n",
       "80769               RACHEL                   NaN               MASCH   \n",
       "\n",
       "      physician_name_suffix  ... product_category_or_therapeutic_area_4  \\\n",
       "0                       NaN  ...                                    NaN   \n",
       "1                       NaN  ...                                    NaN   \n",
       "2                       NaN  ...                                    NaN   \n",
       "3                       NaN  ...                                    NaN   \n",
       "4                       NaN  ...                                    NaN   \n",
       "...                     ...  ...                                    ...   \n",
       "80765                   NaN  ...                                    NaN   \n",
       "80766                   NaN  ...                                    NaN   \n",
       "80767                   NaN  ...                                    NaN   \n",
       "80768                   NaN  ...                                    NaN   \n",
       "80769                   NaN  ...                                    NaN   \n",
       "\n",
       "      name_of_drug_or_biological_or_device_or_medical_supply_4  \\\n",
       "0                                                    NaN         \n",
       "1                                                    NaN         \n",
       "2                                                    NaN         \n",
       "3                                                    NaN         \n",
       "4                                                    NaN         \n",
       "...                                                  ...         \n",
       "80765                                                NaN         \n",
       "80766                                                NaN         \n",
       "80767                                                NaN         \n",
       "80768                                                NaN         \n",
       "80769                                                NaN         \n",
       "\n",
       "      associated_drug_or_biological_ndc_4 covered_or_noncovered_indicator_5  \\\n",
       "0                                     NaN                               NaN   \n",
       "1                                     NaN                               NaN   \n",
       "2                                     NaN                               NaN   \n",
       "3                                     NaN                               NaN   \n",
       "4                                     NaN                               NaN   \n",
       "...                                   ...                               ...   \n",
       "80765                                 NaN                               NaN   \n",
       "80766                                 NaN                               NaN   \n",
       "80767                                 NaN                               NaN   \n",
       "80768                                 NaN                               NaN   \n",
       "80769                                 NaN                               NaN   \n",
       "\n",
       "      indicate_drug_or_biological_or_device_or_medical_supply_5  \\\n",
       "0                                                    NaN          \n",
       "1                                                    NaN          \n",
       "2                                                    NaN          \n",
       "3                                                    NaN          \n",
       "4                                                    NaN          \n",
       "...                                                  ...          \n",
       "80765                                                NaN          \n",
       "80766                                                NaN          \n",
       "80767                                                NaN          \n",
       "80768                                                NaN          \n",
       "80769                                                NaN          \n",
       "\n",
       "      product_category_or_therapeutic_area_5  \\\n",
       "0                                        NaN   \n",
       "1                                        NaN   \n",
       "2                                        NaN   \n",
       "3                                        NaN   \n",
       "4                                        NaN   \n",
       "...                                      ...   \n",
       "80765                                    NaN   \n",
       "80766                                    NaN   \n",
       "80767                                    NaN   \n",
       "80768                                    NaN   \n",
       "80769                                    NaN   \n",
       "\n",
       "       name_of_drug_or_biological_or_device_or_medical_supply_5  \\\n",
       "0                                                    NaN          \n",
       "1                                                    NaN          \n",
       "2                                                    NaN          \n",
       "3                                                    NaN          \n",
       "4                                                    NaN          \n",
       "...                                                  ...          \n",
       "80765                                                NaN          \n",
       "80766                                                NaN          \n",
       "80767                                                NaN          \n",
       "80768                                                NaN          \n",
       "80769                                                NaN          \n",
       "\n",
       "       associated_drug_or_biological_ndc_5 program_year  \\\n",
       "0                                      NaN         2020   \n",
       "1                                      NaN         2020   \n",
       "2                                      NaN         2020   \n",
       "3                                      NaN         2020   \n",
       "4                                      NaN         2020   \n",
       "...                                    ...          ...   \n",
       "80765                                  NaN         2020   \n",
       "80766                                  NaN         2020   \n",
       "80767                                  NaN         2020   \n",
       "80768                                  NaN         2020   \n",
       "80769                                  NaN         2020   \n",
       "\n",
       "      payment_publication_date  \n",
       "0                   01/21/2022  \n",
       "1                   01/21/2022  \n",
       "2                   01/21/2022  \n",
       "3                   01/21/2022  \n",
       "4                   01/21/2022  \n",
       "...                        ...  \n",
       "80765               01/21/2022  \n",
       "80766               01/21/2022  \n",
       "80767               01/21/2022  \n",
       "80768               01/21/2022  \n",
       "80769               01/21/2022  \n",
       "\n",
       "[80770 rows x 75 columns]"
      ]
     },
     "execution_count": 2,
     "metadata": {},
     "output_type": "execute_result"
    }
   ],
   "source": [
    "low_memory=False\n",
    "data = pd.read_csv('data-2.csv')\n",
    "data"
   ]
  },
  {
   "cell_type": "code",
   "execution_count": 103,
   "metadata": {},
   "outputs": [
    {
     "data": {
      "text/plain": [
       "Food and Beverage                                                                                                                                     76614\n",
       "Compensation for services other than consulting, including serving as faculty or as a speaker at a venue other than a continuing education program     2102\n",
       "Travel and Lodging                                                                                                                                     1124\n",
       "Gift                                                                                                                                                    347\n",
       "Education                                                                                                                                               301\n",
       "Consulting Fee                                                                                                                                          260\n",
       "Royalty or License                                                                                                                                       12\n",
       "Space rental or facility fees (teaching hospital only)                                                                                                   10\n",
       "Name: nature_of_payment_or_transfer_of_value, dtype: int64"
      ]
     },
     "execution_count": 103,
     "metadata": {},
     "output_type": "execute_result"
    }
   ],
   "source": [
    "data.nature_of_payment_or_transfer_of_value.value_counts()"
   ]
  },
  {
   "cell_type": "code",
   "execution_count": 105,
   "metadata": {},
   "outputs": [
    {
     "data": {
      "text/plain": [
       "1420551.5399999998"
      ]
     },
     "execution_count": 105,
     "metadata": {},
     "output_type": "execute_result"
    }
   ],
   "source": [
    "data.loc[data[\"nature_of_payment_or_transfer_of_value\"].str.contains('Food and Beverage')][\"total_amount_of_payment_usdollars\"].sum()"
   ]
  },
  {
   "cell_type": "code",
   "execution_count": 110,
   "metadata": {},
   "outputs": [
    {
     "data": {
      "text/plain": [
       "1420551.5399999998"
      ]
     },
     "execution_count": 110,
     "metadata": {},
     "output_type": "execute_result"
    }
   ],
   "source": [
    "food = data.loc[data[\"nature_of_payment_or_transfer_of_value\"].str.contains('Food and Beverage')]\n",
    "food.total_amount_of_payment_usdollars.sum()"
   ]
  },
  {
   "cell_type": "code",
   "execution_count": 104,
   "metadata": {},
   "outputs": [
    {
     "data": {
      "text/plain": [
       "0.9485452519499814"
      ]
     },
     "execution_count": 104,
     "metadata": {},
     "output_type": "execute_result"
    }
   ],
   "source": [
    "76614/80770"
   ]
  },
  {
   "cell_type": "code",
   "execution_count": 111,
   "metadata": {},
   "outputs": [
    {
     "data": {
      "text/plain": [
       "SMITH       343\n",
       "MILLER      322\n",
       "WILLIAMS    311\n",
       "BROWN       288\n",
       "LEE         271\n",
       "           ... \n",
       "ELKIN         1\n",
       "HESLA         1\n",
       "WEAR          1\n",
       "CALCAGNO      1\n",
       "SCHAT         1\n",
       "Name: physician_last_name, Length: 12099, dtype: int64"
      ]
     },
     "execution_count": 111,
     "metadata": {},
     "output_type": "execute_result"
    }
   ],
   "source": [
    "data.physician_last_name.value_counts()"
   ]
  },
  {
   "cell_type": "code",
   "execution_count": null,
   "metadata": {},
   "outputs": [],
   "source": []
  },
  {
   "cell_type": "code",
   "execution_count": 3,
   "metadata": {},
   "outputs": [
    {
     "data": {
      "text/plain": [
       "02/19/2020    931\n",
       "02/12/2020    865\n",
       "01/22/2020    856\n",
       "01/23/2020    846\n",
       "02/13/2020    833\n",
       "             ... \n",
       "06/20/2020      1\n",
       "06/07/2020      1\n",
       "05/03/2020      1\n",
       "06/21/2020      1\n",
       "05/10/2020      1\n",
       "Name: date_of_payment, Length: 356, dtype: int64"
      ]
     },
     "execution_count": 3,
     "metadata": {},
     "output_type": "execute_result"
    }
   ],
   "source": [
    "data.date_of_payment.value_counts() \n",
    "# plot this as bar graph as day of year"
   ]
  },
  {
   "cell_type": "code",
   "execution_count": 4,
   "metadata": {},
   "outputs": [
    {
     "data": {
      "text/plain": [
       "Wednesday    19205\n",
       "Thursday     18919\n",
       "Tuesday      18838\n",
       "Monday       14025\n",
       "Friday        8685\n",
       "Saturday       802\n",
       "Sunday         296\n",
       "Name: day_of_week, dtype: int64"
      ]
     },
     "execution_count": 4,
     "metadata": {},
     "output_type": "execute_result"
    }
   ],
   "source": [
    "data['date_of_payment'] = pd.to_datetime(data['date_of_payment']).dt.date\n",
    "data['day_of_week'] = data['date_of_payment'].apply(lambda x: x.weekday()) # get the weekday index, between 0 and 6\n",
    "data['day_of_week'] = data['day_of_week'].apply(lambda x: calendar.day_name[x])\n",
    "data.day_of_week.value_counts()"
   ]
  },
  {
   "cell_type": "code",
   "execution_count": 5,
   "metadata": {},
   "outputs": [],
   "source": [
    "lo_loestrin_fe = data.loc[data[\"name_of_drug_or_biological_or_device_or_medical_supply_1\"].str.contains('LO LOESTRIN FE')]\n",
    "annovera = data.loc[data[\"name_of_drug_or_biological_or_device_or_medical_supply_1\"].str.contains('ANNOVERA')]\n",
    "nexplanon = data.loc[data[\"name_of_drug_or_biological_or_device_or_medical_supply_1\"].str.contains('NEXPLANON')]\n",
    "birth_control = lo_loestrin_fe.append(annovera).append(nexplanon)"
   ]
  },
  {
   "cell_type": "code",
   "execution_count": 6,
   "metadata": {},
   "outputs": [
    {
     "data": {
      "text/html": [
       "<div>\n",
       "<style scoped>\n",
       "    .dataframe tbody tr th:only-of-type {\n",
       "        vertical-align: middle;\n",
       "    }\n",
       "\n",
       "    .dataframe tbody tr th {\n",
       "        vertical-align: top;\n",
       "    }\n",
       "\n",
       "    .dataframe thead th {\n",
       "        text-align: right;\n",
       "    }\n",
       "</style>\n",
       "<table border=\"1\" class=\"dataframe\">\n",
       "  <thead>\n",
       "    <tr style=\"text-align: right;\">\n",
       "      <th></th>\n",
       "      <th>Day of Week</th>\n",
       "      <th>Number of Womens Health-Related Payments</th>\n",
       "    </tr>\n",
       "  </thead>\n",
       "  <tbody>\n",
       "    <tr>\n",
       "      <th>0</th>\n",
       "      <td>Saturday</td>\n",
       "      <td>802</td>\n",
       "    </tr>\n",
       "    <tr>\n",
       "      <th>1</th>\n",
       "      <td>Friday</td>\n",
       "      <td>8685</td>\n",
       "    </tr>\n",
       "    <tr>\n",
       "      <th>2</th>\n",
       "      <td>Thursday</td>\n",
       "      <td>18919</td>\n",
       "    </tr>\n",
       "    <tr>\n",
       "      <th>3</th>\n",
       "      <td>Wednesday</td>\n",
       "      <td>19205</td>\n",
       "    </tr>\n",
       "    <tr>\n",
       "      <th>4</th>\n",
       "      <td>Tuesday</td>\n",
       "      <td>18838</td>\n",
       "    </tr>\n",
       "    <tr>\n",
       "      <th>5</th>\n",
       "      <td>Monday</td>\n",
       "      <td>14025</td>\n",
       "    </tr>\n",
       "    <tr>\n",
       "      <th>6</th>\n",
       "      <td>Sunday</td>\n",
       "      <td>296</td>\n",
       "    </tr>\n",
       "  </tbody>\n",
       "</table>\n",
       "</div>"
      ],
      "text/plain": [
       "  Day of Week  Number of Womens Health-Related Payments\n",
       "0    Saturday                                       802\n",
       "1      Friday                                      8685\n",
       "2    Thursday                                     18919\n",
       "3   Wednesday                                     19205\n",
       "4     Tuesday                                     18838\n",
       "5      Monday                                     14025\n",
       "6      Sunday                                       296"
      ]
     },
     "execution_count": 6,
     "metadata": {},
     "output_type": "execute_result"
    }
   ],
   "source": [
    "payments_by_day_total = pd.DataFrame(\n",
    "    {'Day of Week': np.array(['Saturday', 'Friday', 'Thursday', 'Wednesday','Tuesday','Monday','Sunday']),\n",
    "    'Number of Womens Health-Related Payments': np.array([802, 8685, 18919, 19205,18838,14025,296])}\n",
    ")\n",
    "payments_by_day_total"
   ]
  },
  {
   "cell_type": "code",
   "execution_count": 80,
   "metadata": {},
   "outputs": [
    {
     "name": "stderr",
     "output_type": "stream",
     "text": [
      "<ipython-input-80-b6dc2b5684fe>:9: UserWarning: FixedFormatter should only be used together with FixedLocator\n",
      "  plt.gca().set_xticklabels(['{:,.0f}'.format(x) for x in current_values])\n"
     ]
    },
    {
     "data": {
      "text/plain": [
       "[Text(0.0, 0, '0'),\n",
       " Text(5000.0, 0, '5,000'),\n",
       " Text(10000.0, 0, '10,000'),\n",
       " Text(15000.0, 0, '15,000'),\n",
       " Text(20000.0, 0, '20,000'),\n",
       " Text(25000.0, 0, '25,000')]"
      ]
     },
     "execution_count": 80,
     "metadata": {},
     "output_type": "execute_result"
    },
    {
     "data": {
      "image/png": "[encoded data removed]",
      "text/plain": [
       "<Figure size 432x288 with 1 Axes>"
      ]
     },
     "metadata": {},
     "output_type": "display_data"
    }
   ],
   "source": [
    "payments_weekday = data['day_of_week']\n",
    "num_payments_weekday = data.day_of_week.value_counts()\n",
    "plotting = plt.barh(payments_by_day_total['Day of Week'], payments_by_day_total['Number of Womens Health-Related Payments'])\n",
    "plt.xlabel('Number of Womens Health-Related Payments')\n",
    "plt.ylabel('Day of Week')\n",
    "plt.title('Bar Chart of Total Number of Womens Health-Related Payments by Day for 2020')\n",
    "plt.savefig(\"Myfigure.png\", dpi=1000)\n",
    "current_values = plt.gca().get_xticks()\n",
    "plt.gca().set_xticklabels(['{:,.0f}'.format(x) for x in current_values])"
   ]
  },
  {
   "cell_type": "code",
   "execution_count": 58,
   "metadata": {},
   "outputs": [
    {
     "data": {
      "text/html": [
       "<style  type=\"text/css\" >\n",
       "</style><table id=\"T_d016d_\" ><thead>    <tr>        <th class=\"blank level0\" ></th>        <th class=\"col_heading level0 col0\" >Day of Week</th>        <th class=\"col_heading level0 col1\" >Number of Womens Health-Related Payments</th>    </tr></thead><tbody>\n",
       "                <tr>\n",
       "                        <th id=\"T_d016d_level0_row0\" class=\"row_heading level0 row0\" >0</th>\n",
       "                        <td id=\"T_d016d_row0_col0\" class=\"data row0 col0\" >Saturday</td>\n",
       "                        <td id=\"T_d016d_row0_col1\" class=\"data row0 col1\" >802</td>\n",
       "            </tr>\n",
       "            <tr>\n",
       "                        <th id=\"T_d016d_level0_row1\" class=\"row_heading level0 row1\" >1</th>\n",
       "                        <td id=\"T_d016d_row1_col0\" class=\"data row1 col0\" >Friday</td>\n",
       "                        <td id=\"T_d016d_row1_col1\" class=\"data row1 col1\" >8,685</td>\n",
       "            </tr>\n",
       "            <tr>\n",
       "                        <th id=\"T_d016d_level0_row2\" class=\"row_heading level0 row2\" >2</th>\n",
       "                        <td id=\"T_d016d_row2_col0\" class=\"data row2 col0\" >Thursday</td>\n",
       "                        <td id=\"T_d016d_row2_col1\" class=\"data row2 col1\" >18,919</td>\n",
       "            </tr>\n",
       "            <tr>\n",
       "                        <th id=\"T_d016d_level0_row3\" class=\"row_heading level0 row3\" >3</th>\n",
       "                        <td id=\"T_d016d_row3_col0\" class=\"data row3 col0\" >Wednesday</td>\n",
       "                        <td id=\"T_d016d_row3_col1\" class=\"data row3 col1\" >19,205</td>\n",
       "            </tr>\n",
       "            <tr>\n",
       "                        <th id=\"T_d016d_level0_row4\" class=\"row_heading level0 row4\" >4</th>\n",
       "                        <td id=\"T_d016d_row4_col0\" class=\"data row4 col0\" >Tuesday</td>\n",
       "                        <td id=\"T_d016d_row4_col1\" class=\"data row4 col1\" >18,838</td>\n",
       "            </tr>\n",
       "            <tr>\n",
       "                        <th id=\"T_d016d_level0_row5\" class=\"row_heading level0 row5\" >5</th>\n",
       "                        <td id=\"T_d016d_row5_col0\" class=\"data row5 col0\" >Monday</td>\n",
       "                        <td id=\"T_d016d_row5_col1\" class=\"data row5 col1\" >14,025</td>\n",
       "            </tr>\n",
       "            <tr>\n",
       "                        <th id=\"T_d016d_level0_row6\" class=\"row_heading level0 row6\" >6</th>\n",
       "                        <td id=\"T_d016d_row6_col0\" class=\"data row6 col0\" >Sunday</td>\n",
       "                        <td id=\"T_d016d_row6_col1\" class=\"data row6 col1\" >296</td>\n",
       "            </tr>\n",
       "    </tbody></table>"
      ],
      "text/plain": [
       "<pandas.io.formats.style.Styler at 0x7fb1d554deb0>"
      ]
     },
     "execution_count": 58,
     "metadata": {},
     "output_type": "execute_result"
    }
   ],
   "source": [
    "payments_by_day_total.style.format({\n",
    "    \"Number of Womens Health-Related Payments\": \"{:,d}\",\n",
    "})"
   ]
  },
  {
   "cell_type": "code",
   "execution_count": 8,
   "metadata": {},
   "outputs": [
    {
     "data": {
      "text/html": [
       "<div>\n",
       "<style scoped>\n",
       "    .dataframe tbody tr th:only-of-type {\n",
       "        vertical-align: middle;\n",
       "    }\n",
       "\n",
       "    .dataframe tbody tr th {\n",
       "        vertical-align: top;\n",
       "    }\n",
       "\n",
       "    .dataframe thead th {\n",
       "        text-align: right;\n",
       "    }\n",
       "</style>\n",
       "<table border=\"1\" class=\"dataframe\">\n",
       "  <thead>\n",
       "    <tr style=\"text-align: right;\">\n",
       "      <th></th>\n",
       "      <th>Day of Week</th>\n",
       "      <th>Number of Birth Control Payments</th>\n",
       "    </tr>\n",
       "  </thead>\n",
       "  <tbody>\n",
       "    <tr>\n",
       "      <th>0</th>\n",
       "      <td>Saturday</td>\n",
       "      <td>241</td>\n",
       "    </tr>\n",
       "    <tr>\n",
       "      <th>1</th>\n",
       "      <td>Friday</td>\n",
       "      <td>2857</td>\n",
       "    </tr>\n",
       "    <tr>\n",
       "      <th>2</th>\n",
       "      <td>Thursday</td>\n",
       "      <td>6282</td>\n",
       "    </tr>\n",
       "    <tr>\n",
       "      <th>3</th>\n",
       "      <td>Wednesday</td>\n",
       "      <td>6710</td>\n",
       "    </tr>\n",
       "    <tr>\n",
       "      <th>4</th>\n",
       "      <td>Tuesday</td>\n",
       "      <td>6120</td>\n",
       "    </tr>\n",
       "    <tr>\n",
       "      <th>5</th>\n",
       "      <td>Monday</td>\n",
       "      <td>4523</td>\n",
       "    </tr>\n",
       "    <tr>\n",
       "      <th>6</th>\n",
       "      <td>Sunday</td>\n",
       "      <td>91</td>\n",
       "    </tr>\n",
       "  </tbody>\n",
       "</table>\n",
       "</div>"
      ],
      "text/plain": [
       "  Day of Week  Number of Birth Control Payments\n",
       "0    Saturday                               241\n",
       "1      Friday                              2857\n",
       "2    Thursday                              6282\n",
       "3   Wednesday                              6710\n",
       "4     Tuesday                              6120\n",
       "5      Monday                              4523\n",
       "6      Sunday                                91"
      ]
     },
     "execution_count": 8,
     "metadata": {},
     "output_type": "execute_result"
    }
   ],
   "source": [
    "payments_by_day = pd.DataFrame(\n",
    "    {'Day of Week': np.array(['Saturday', 'Friday', 'Thursday', 'Wednesday','Tuesday','Monday','Sunday']),\n",
    "    'Number of Birth Control Payments': np.array([241, 2857, 6282, 6710,6120,4523,91])}\n",
    ")\n",
    "payments_by_day"
   ]
  },
  {
   "cell_type": "code",
   "execution_count": 47,
   "metadata": {},
   "outputs": [
    {
     "data": {
      "image/png": "[encoded data removed]",
      "text/plain": [
       "<Figure size 432x288 with 1 Axes>"
      ]
     },
     "metadata": {},
     "output_type": "display_data"
    }
   ],
   "source": [
    "payments_weekday_bc = birth_control['day_of_week']\n",
    "num_payments_weekday_bc = birth_control.day_of_week.value_counts()\n",
    "plt.barh(payments_by_day['Day of Week'], payments_by_day['Number of Birth Control Payments'])\n",
    "plt.xlabel('Number of Birth Control Payments')\n",
    "plt.ylabel('Day of Week')\n",
    "plt.title('Bar Chart of Number of Lo Loestrin Fe, Annovera, and Nexplanon Birth Control Payments by Day for 2020')\n",
    "plt.savefig(\"Myfigure.png\", dpi=300)"
   ]
  },
  {
   "cell_type": "code",
   "execution_count": 10,
   "metadata": {},
   "outputs": [
    {
     "data": {
      "text/plain": [
       "<Figure size 432x288 with 0 Axes>"
      ]
     },
     "metadata": {},
     "output_type": "display_data"
    }
   ],
   "source": [
    "plt.savefig(\"Myfigure.png\", dpi=300)"
   ]
  },
  {
   "cell_type": "code",
   "execution_count": 11,
   "metadata": {},
   "outputs": [
    {
     "data": {
      "text/plain": [
       "Wednesday    6710\n",
       "Thursday     6282\n",
       "Tuesday      6120\n",
       "Monday       4523\n",
       "Friday       2857\n",
       "Saturday      241\n",
       "Sunday         91\n",
       "Name: day_of_week, dtype: int64"
      ]
     },
     "execution_count": 11,
     "metadata": {},
     "output_type": "execute_result"
    }
   ],
   "source": [
    "birth_control.day_of_week.value_counts()"
   ]
  },
  {
   "cell_type": "code",
   "execution_count": 12,
   "metadata": {},
   "outputs": [
    {
     "data": {
      "text/plain": [
       "Wednesday    0.250149\n",
       "Thursday     0.234193\n",
       "Tuesday      0.228154\n",
       "Monday       0.168618\n",
       "Friday       0.106509\n",
       "Saturday     0.008984\n",
       "Sunday       0.003392\n",
       "Name: day_of_week, dtype: float64"
      ]
     },
     "execution_count": 12,
     "metadata": {},
     "output_type": "execute_result"
    }
   ],
   "source": [
    "birth_control.day_of_week.value_counts('Saturday')"
   ]
  },
  {
   "cell_type": "code",
   "execution_count": 13,
   "metadata": {},
   "outputs": [
    {
     "data": {
      "text/plain": [
       "1.2376000000000003"
      ]
     },
     "execution_count": 13,
     "metadata": {},
     "output_type": "execute_result"
    }
   ],
   "source": [
    "(0.008984 + 0.003392)*100"
   ]
  },
  {
   "cell_type": "code",
   "execution_count": 14,
   "metadata": {},
   "outputs": [
    {
     "data": {
      "text/plain": [
       "98330.69"
      ]
     },
     "execution_count": 14,
     "metadata": {},
     "output_type": "execute_result"
    }
   ],
   "source": [
    "def amount_money_by_state(state):\n",
    "    \"\"\"Sums amount of money by state\"\"\"\n",
    "    return float(data.loc[data[\"recipient_state\"].str.contains(state)][\"total_amount_of_payment_usdollars\"].sum())\n",
    "amount_money_by_state('CO')"
   ]
  },
  {
   "cell_type": "code",
   "execution_count": 15,
   "metadata": {},
   "outputs": [
    {
     "data": {
      "text/plain": [
       "<BarContainer object of 356 artists>"
      ]
     },
     "execution_count": 15,
     "metadata": {},
     "output_type": "execute_result"
    },
    {
     "data": {
      "image/png": "[encoded data removed]",
      "text/plain": [
       "<Figure size 432x288 with 1 Axes>"
      ]
     },
     "metadata": {},
     "output_type": "display_data"
    }
   ],
   "source": [
    "plt.barh(data.date_of_payment.value_counts().index[-365:], data.date_of_payment.value_counts().values[-365:])"
   ]
  },
  {
   "cell_type": "code",
   "execution_count": 16,
   "metadata": {},
   "outputs": [],
   "source": [
    "womens_payments = data.nature_of_payment_or_transfer_of_value.value_counts()\n",
    "womens_drugs = data.name_of_drug_or_biological_or_device_or_medical_supply_1\n",
    "womens_form_payment = data.form_of_payment_or_transfer_of_value\n",
    "womens_inc = data.submitting_applicable_manufacturer_or_applicable_gpo_name"
   ]
  },
  {
   "cell_type": "code",
   "execution_count": 17,
   "metadata": {},
   "outputs": [
    {
     "data": {
      "text/plain": [
       "AbbVie Inc.                                      39215\n",
       "TherapeuticsMD, Inc.                             12895\n",
       "Merck Sharp & Dohme Corporation                   7168\n",
       "Bayer HealthCare Pharmaceuticals Inc.             7154\n",
       "Pfizer Inc.                                       6129\n",
       "Allergan, Inc.                                    4297\n",
       "Mylan Inc.                                        1696\n",
       "CooperSurgical, Inc.                               671\n",
       "Philips Electronics North America Corporation      619\n",
       "ASCEND THERAPEUTICS US, LLC                        564\n",
       "Duchesnay USA Incorporated                         123\n",
       "Becton, Dickinson and Company                      110\n",
       "Medicines360                                        60\n",
       "Ferring Pharmaceuticals Inc.                        50\n",
       "MAYNE PHARMA INC.                                    6\n",
       "CSL Behring                                          4\n",
       "Hikma Pharmaceuticals USA                            3\n",
       "Mylan Pharmaceuticals Inc.                           3\n",
       "ASCEND Therapeutics US, LLC                          2\n",
       "Cepheid                                              1\n",
       "Name: submitting_applicable_manufacturer_or_applicable_gpo_name, dtype: int64"
      ]
     },
     "execution_count": 17,
     "metadata": {},
     "output_type": "execute_result"
    }
   ],
   "source": [
    "womens_inc.value_counts()"
   ]
  },
  {
   "cell_type": "code",
   "execution_count": 18,
   "metadata": {},
   "outputs": [
    {
     "data": {
      "text/plain": [
       "In-kind items and services    77554\n",
       "Cash or cash equivalent        3216\n",
       "Name: form_of_payment_or_transfer_of_value, dtype: int64"
      ]
     },
     "execution_count": 18,
     "metadata": {},
     "output_type": "execute_result"
    }
   ],
   "source": [
    "womens_form_payment.value_counts()"
   ]
  },
  {
   "cell_type": "code",
   "execution_count": null,
   "metadata": {},
   "outputs": [],
   "source": []
  },
  {
   "cell_type": "code",
   "execution_count": 19,
   "metadata": {},
   "outputs": [
    {
     "data": {
      "text/plain": [
       "1043191.14"
      ]
     },
     "execution_count": 19,
     "metadata": {},
     "output_type": "execute_result"
    }
   ],
   "source": [
    "data.loc[data[\"recipient_state\"].str.contains(\"CA\")][\"total_amount_of_payment_usdollars\"].sum()"
   ]
  },
  {
   "cell_type": "code",
   "execution_count": 20,
   "metadata": {},
   "outputs": [
    {
     "data": {
      "text/plain": [
       "129    LYSTEDA\n",
       "Name: name_of_drug_or_biological_or_device_or_medical_supply_1, dtype: object"
      ]
     },
     "execution_count": 20,
     "metadata": {},
     "output_type": "execute_result"
    }
   ],
   "source": [
    "jordan = data.loc[data[\"applicable_manufacturer_or_applicable_gpo_making_payment_country\"].str.contains(\"Jordan\")]\n",
    "jordan.name_of_drug_or_biological_or_device_or_medical_supply_1"
   ]
  },
  {
   "cell_type": "code",
   "execution_count": 21,
   "metadata": {},
   "outputs": [
    {
     "data": {
      "text/html": [
       "<div>\n",
       "<style scoped>\n",
       "    .dataframe tbody tr th:only-of-type {\n",
       "        vertical-align: middle;\n",
       "    }\n",
       "\n",
       "    .dataframe tbody tr th {\n",
       "        vertical-align: top;\n",
       "    }\n",
       "\n",
       "    .dataframe thead th {\n",
       "        text-align: right;\n",
       "    }\n",
       "</style>\n",
       "<table border=\"1\" class=\"dataframe\">\n",
       "  <thead>\n",
       "    <tr style=\"text-align: right;\">\n",
       "      <th></th>\n",
       "      <th>change_type</th>\n",
       "      <th>covered_recipient_type</th>\n",
       "      <th>teaching_hospital_ccn</th>\n",
       "      <th>teaching_hospital_id</th>\n",
       "      <th>teaching_hospital_name</th>\n",
       "      <th>physician_profile_id</th>\n",
       "      <th>physician_first_name</th>\n",
       "      <th>physician_middle_name</th>\n",
       "      <th>physician_last_name</th>\n",
       "      <th>physician_name_suffix</th>\n",
       "      <th>...</th>\n",
       "      <th>name_of_drug_or_biological_or_device_or_medical_supply_4</th>\n",
       "      <th>associated_drug_or_biological_ndc_4</th>\n",
       "      <th>covered_or_noncovered_indicator_5</th>\n",
       "      <th>indicate_drug_or_biological_or_device_or_medical_supply_5</th>\n",
       "      <th>product_category_or_therapeutic_area_5</th>\n",
       "      <th>name_of_drug_or_biological_or_device_or_medical_supply_5</th>\n",
       "      <th>associated_drug_or_biological_ndc_5</th>\n",
       "      <th>program_year</th>\n",
       "      <th>payment_publication_date</th>\n",
       "      <th>day_of_week</th>\n",
       "    </tr>\n",
       "  </thead>\n",
       "  <tbody>\n",
       "    <tr>\n",
       "      <th>129</th>\n",
       "      <td>UNCHANGED</td>\n",
       "      <td>Covered Recipient Physician</td>\n",
       "      <td>NaN</td>\n",
       "      <td>NaN</td>\n",
       "      <td>NaN</td>\n",
       "      <td>343004.0</td>\n",
       "      <td>DAVID</td>\n",
       "      <td>F</td>\n",
       "      <td>ARCHER</td>\n",
       "      <td>NaN</td>\n",
       "      <td>...</td>\n",
       "      <td>NaN</td>\n",
       "      <td>NaN</td>\n",
       "      <td>NaN</td>\n",
       "      <td>NaN</td>\n",
       "      <td>NaN</td>\n",
       "      <td>NaN</td>\n",
       "      <td>NaN</td>\n",
       "      <td>2020</td>\n",
       "      <td>01/21/2022</td>\n",
       "      <td>Wednesday</td>\n",
       "    </tr>\n",
       "  </tbody>\n",
       "</table>\n",
       "<p>1 rows × 76 columns</p>\n",
       "</div>"
      ],
      "text/plain": [
       "    change_type       covered_recipient_type  teaching_hospital_ccn  \\\n",
       "129   UNCHANGED  Covered Recipient Physician                    NaN   \n",
       "\n",
       "     teaching_hospital_id teaching_hospital_name  physician_profile_id  \\\n",
       "129                   NaN                    NaN              343004.0   \n",
       "\n",
       "    physician_first_name physician_middle_name physician_last_name  \\\n",
       "129                DAVID                     F              ARCHER   \n",
       "\n",
       "    physician_name_suffix  ...  \\\n",
       "129                   NaN  ...   \n",
       "\n",
       "    name_of_drug_or_biological_or_device_or_medical_supply_4  \\\n",
       "129                                                NaN         \n",
       "\n",
       "    associated_drug_or_biological_ndc_4 covered_or_noncovered_indicator_5  \\\n",
       "129                                 NaN                               NaN   \n",
       "\n",
       "    indicate_drug_or_biological_or_device_or_medical_supply_5  \\\n",
       "129                                                NaN          \n",
       "\n",
       "    product_category_or_therapeutic_area_5  \\\n",
       "129                                    NaN   \n",
       "\n",
       "    name_of_drug_or_biological_or_device_or_medical_supply_5  \\\n",
       "129                                                NaN         \n",
       "\n",
       "     associated_drug_or_biological_ndc_5  program_year  \\\n",
       "129                                  NaN          2020   \n",
       "\n",
       "    payment_publication_date day_of_week  \n",
       "129               01/21/2022   Wednesday  \n",
       "\n",
       "[1 rows x 76 columns]"
      ]
     },
     "execution_count": 21,
     "metadata": {},
     "output_type": "execute_result"
    }
   ],
   "source": [
    "data.loc[data[\"name_of_drug_or_biological_or_device_or_medical_supply_1\"].str.contains(\"LYSTEDA\")]"
   ]
  },
  {
   "cell_type": "code",
   "execution_count": 22,
   "metadata": {},
   "outputs": [
    {
     "data": {
      "text/plain": [
       "CA    8970\n",
       "TX    8871\n",
       "FL    5863\n",
       "NY    4608\n",
       "GA    3828\n",
       "IL    3105\n",
       "OH    2839\n",
       "NC    2542\n",
       "PA    2505\n",
       "MI    2372\n",
       "VA    2288\n",
       "MD    2285\n",
       "TN    2271\n",
       "MO    2231\n",
       "NJ    2138\n",
       "AZ    1964\n",
       "AL    1963\n",
       "LA    1836\n",
       "SC    1555\n",
       "IN    1534\n",
       "CT    1364\n",
       "MS    1256\n",
       "OK    1233\n",
       "KY    1152\n",
       "CO    1012\n",
       "NV     981\n",
       "AR     966\n",
       "KS     923\n",
       "WA     752\n",
       "UT     621\n",
       "NE     620\n",
       "WV     580\n",
       "MA     535\n",
       "OR     385\n",
       "HI     378\n",
       "DE     374\n",
       "RI     278\n",
       "DC     233\n",
       "IA     229\n",
       "WI     216\n",
       "NM     202\n",
       "ID     187\n",
       "MN     146\n",
       "MT     108\n",
       "ND      88\n",
       "NH      85\n",
       "PR      81\n",
       "WY      62\n",
       "ME      60\n",
       "SD      59\n",
       "AK      27\n",
       "VT       7\n",
       "AP       1\n",
       "AE       1\n",
       "Name: recipient_state, dtype: int64"
      ]
     },
     "execution_count": 22,
     "metadata": {},
     "output_type": "execute_result"
    }
   ],
   "source": [
    "recipient_state = data.recipient_state\n",
    "recipient_state.value_counts()[0:58]"
   ]
  },
  {
   "cell_type": "code",
   "execution_count": 23,
   "metadata": {},
   "outputs": [
    {
     "data": {
      "text/plain": [
       "1584.92"
      ]
     },
     "execution_count": 23,
     "metadata": {},
     "output_type": "execute_result"
    }
   ],
   "source": [
    "def amount_money_by_state(state):\n",
    "    \"\"\"Sums amount of money by state\"\"\"\n",
    "    return float(data.loc[data[\"recipient_state\"].str.contains(state)][\"total_amount_of_payment_usdollars\"].sum())\n",
    "amount_money_by_state('VT')"
   ]
  },
  {
   "cell_type": "code",
   "execution_count": 24,
   "metadata": {},
   "outputs": [],
   "source": [
    "CA = 1043191.14\n",
    "TX = 409370.13999999996\n",
    "FL = 548306.27\n",
    "NY = 315740.12\n",
    "GA = 206318.77000000002\n",
    "IL = 232497.27000000002\n",
    "OH = 190800.63999999998\n",
    "NC = 142107.05\n",
    "PA = 219860.32\n",
    "MI = 234043.17000000004\n",
    "VA = 243133.92\n",
    "MD = 190058.25999999998\n",
    "TN = 132067.18000000002\n",
    "MO = 167070.3\n",
    "NJ = 112668.54000000001\n",
    "AZ = 162085.81\n",
    "AL = 132717.77\n",
    "LA = 83270.6\n",
    "SC = 124332.62000000001\n",
    "IN = 76507.26000000001\n",
    "CT = 106728.08\n",
    "MS = 37830.09\n",
    "OK = 42086.98999999999\n",
    "KY = 123747.43\n",
    "CO = 98330.69\n",
    "NV = 23535.58\n",
    "AR = 21057.39\n",
    "KS = 71795.36\n",
    "WA = 95823.84\n",
    "UT = 38397.78\n",
    "NE = 47456.729999999996\n",
    "WV = 33174.009999999995\n",
    "MA = 74470.57\n",
    "OR = 25348.45\n",
    "HI = 15450.66\n",
    "DE = 61452.08\n",
    "RI = 15515.150000000001\n",
    "DC = 12414.05\n",
    "IA = 20815.77\n",
    "WI = 22477.41\n",
    "NM = 19630.019999999997\n",
    "ID = 10141.470000000001\n",
    "MN = 23172.739999999998\n",
    "MT = 1945.5299999999997\n",
    "ND = 10580.35\n",
    "NH = 5615.030000000001\n",
    "PR = 16592.22\n",
    "WY = 1104.8500000000001\n",
    "ME = 7188.5\n",
    "SD = 3811.6499999999996\n",
    "AK = 482.06999999999994\n",
    "VT = 1584.92"
   ]
  },
  {
   "cell_type": "code",
   "execution_count": 25,
   "metadata": {},
   "outputs": [],
   "source": [
    "west = WA + OR + ID + MT + WY + CA + NV + UT + CO + AZ + NM + AK + HI \n",
    "south = TX + OK + AR + LA + WV + VA + KY + TN + NC + SC + GA + MS + AL + FL + DC + DE + MD\n",
    "midwest = ND + SD + NE + KS + MN + IA + MO + WI + IL + MI + IN + OH \n",
    "northeast = ME + NH + VT + MA + RI + CT + NY + PA + NJ "
   ]
  },
  {
   "cell_type": "code",
   "execution_count": 26,
   "metadata": {},
   "outputs": [
    {
     "name": "stdout",
     "output_type": "stream",
     "text": [
      "1535467.8900000001 2543444.62 1101028.65 859371.23\n"
     ]
    }
   ],
   "source": [
    "print(west, south, midwest, northeast)"
   ]
  },
  {
   "cell_type": "code",
   "execution_count": 27,
   "metadata": {},
   "outputs": [
    {
     "data": {
      "text/plain": [
       "0.019527447135341814"
      ]
     },
     "execution_count": 27,
     "metadata": {},
     "output_type": "execute_result"
    }
   ],
   "source": [
    "west/78631266\t"
   ]
  },
  {
   "cell_type": "code",
   "execution_count": 28,
   "metadata": {},
   "outputs": [
    {
     "data": {
      "text/plain": [
       "0.020120754686412497"
      ]
     },
     "execution_count": 28,
     "metadata": {},
     "output_type": "execute_result"
    }
   ],
   "source": [
    "south/126409007"
   ]
  },
  {
   "cell_type": "code",
   "execution_count": 29,
   "metadata": {},
   "outputs": [
    {
     "data": {
      "text/plain": [
       "0.015971942712438788"
      ]
     },
     "execution_count": 29,
     "metadata": {},
     "output_type": "execute_result"
    }
   ],
   "source": [
    "midwest/68935174"
   ]
  },
  {
   "cell_type": "code",
   "execution_count": 30,
   "metadata": {},
   "outputs": [
    {
     "data": {
      "text/plain": [
       "0.014938926964958386"
      ]
     },
     "execution_count": 30,
     "metadata": {},
     "output_type": "execute_result"
    }
   ],
   "source": [
    "northeast/57525633"
   ]
  },
  {
   "cell_type": "code",
   "execution_count": 31,
   "metadata": {},
   "outputs": [
    {
     "data": {
      "text/plain": [
       "1.346867464685309"
      ]
     },
     "execution_count": 31,
     "metadata": {},
     "output_type": "execute_result"
    }
   ],
   "source": [
    "(south/126409007)/(northeast/57525633)"
   ]
  },
  {
   "cell_type": "code",
   "execution_count": 32,
   "metadata": {},
   "outputs": [
    {
     "data": {
      "text/html": [
       "<div>\n",
       "<style scoped>\n",
       "    .dataframe tbody tr th:only-of-type {\n",
       "        vertical-align: middle;\n",
       "    }\n",
       "\n",
       "    .dataframe tbody tr th {\n",
       "        vertical-align: top;\n",
       "    }\n",
       "\n",
       "    .dataframe thead th {\n",
       "        text-align: right;\n",
       "    }\n",
       "</style>\n",
       "<table border=\"1\" class=\"dataframe\">\n",
       "  <thead>\n",
       "    <tr style=\"text-align: right;\">\n",
       "      <th></th>\n",
       "      <th>Region</th>\n",
       "      <th>Dollar amount per capita</th>\n",
       "    </tr>\n",
       "  </thead>\n",
       "  <tbody>\n",
       "    <tr>\n",
       "      <th>0</th>\n",
       "      <td>Northeast</td>\n",
       "      <td>0.014939</td>\n",
       "    </tr>\n",
       "    <tr>\n",
       "      <th>1</th>\n",
       "      <td>South</td>\n",
       "      <td>0.020121</td>\n",
       "    </tr>\n",
       "    <tr>\n",
       "      <th>2</th>\n",
       "      <td>Midwest</td>\n",
       "      <td>0.015972</td>\n",
       "    </tr>\n",
       "    <tr>\n",
       "      <th>3</th>\n",
       "      <td>West</td>\n",
       "      <td>0.019527</td>\n",
       "    </tr>\n",
       "  </tbody>\n",
       "</table>\n",
       "</div>"
      ],
      "text/plain": [
       "      Region  Dollar amount per capita\n",
       "0  Northeast                  0.014939\n",
       "1      South                  0.020121\n",
       "2    Midwest                  0.015972\n",
       "3       West                  0.019527"
      ]
     },
     "execution_count": 32,
     "metadata": {},
     "output_type": "execute_result"
    }
   ],
   "source": [
    "percapita_region = pd.DataFrame(\n",
    "    {'Region': np.array(['Northeast', 'South', 'Midwest', 'West']),\n",
    "    'Dollar amount per capita': np.array([0.014938926964958386, 0.020120754686412497, 0.015971942712438788,0.019527447135341814])}\n",
    ")\n",
    "percapita_region"
   ]
  },
  {
   "cell_type": "code",
   "execution_count": 97,
   "metadata": {},
   "outputs": [
    {
     "data": {
      "image/png": "[encoded data removed]",
      "text/plain": [
       "<Figure size 432x288 with 1 Axes>"
      ]
     },
     "metadata": {},
     "output_type": "display_data"
    }
   ],
   "source": [
    "region = percapita_region['Region']\n",
    "plt.barh(percapita_region['Region'], percapita_region['Dollar amount per capita'])\n",
    "plt.xlabel('Per capita Payment Amount Spent ($)')\n",
    "plt.ylabel('Region of the USA')\n",
    "plt.title('Amount ($) per Capita Spent in Womens Health Open Payments in 2020 by Region')\n",
    "plt.savefig(\"Myfigure.png\", dpi=1200)\n",
    "plt.show()"
   ]
  },
  {
   "cell_type": "code",
   "execution_count": null,
   "metadata": {},
   "outputs": [],
   "source": []
  },
  {
   "cell_type": "code",
   "execution_count": 34,
   "metadata": {},
   "outputs": [],
   "source": [
    "populations = pd.read_csv('NST-EST2021-popchg2020_2021.csv')"
   ]
  },
  {
   "cell_type": "code",
   "execution_count": 35,
   "metadata": {},
   "outputs": [
    {
     "data": {
      "text/plain": [
       "United States    80769\n",
       "Jordan               1\n",
       "Name: applicable_manufacturer_or_applicable_gpo_making_payment_country, dtype: int64"
      ]
     },
     "execution_count": 35,
     "metadata": {},
     "output_type": "execute_result"
    }
   ],
   "source": [
    "data.applicable_manufacturer_or_applicable_gpo_making_payment_country.value_counts()"
   ]
  },
  {
   "cell_type": "code",
   "execution_count": 36,
   "metadata": {},
   "outputs": [
    {
     "data": {
      "text/plain": [
       "ORILISSA                                 20658\n",
       "LO LOESTRIN FE                           12497\n",
       "ORIAHNN                                   9117\n",
       "ANNOVERA                                  8019\n",
       "NEXPLANON                                 6308\n",
       "Kyleena                                   6126\n",
       "PREMARIN                                  6113\n",
       "IMVEXXY                                   4031\n",
       "Xulane                                    1699\n",
       "LILETTA                                   1233\n",
       "Mirena                                    1007\n",
       "BIJUVA                                     845\n",
       "Endosee                                    671\n",
       "FOLLISTIM AQ                               664\n",
       "ESTROGEL                                   346\n",
       "(3128) Premium DiamondClean Handles        255\n",
       "BINOSTO                                    210\n",
       "(0363) High Flexcare Handles               200\n",
       "NUVARING                                   172\n",
       "Osphena                                    123\n",
       "(5089) High Flexcare Platinum Handles       83\n",
       "Liletta                                     60\n",
       "BD SurePath                                 60\n",
       "CERVIDIL                                    49\n",
       "BD Onclarity                                38\n",
       "(4201) Mid EasyClean Handles                36\n",
       "GANIRELIX ACETATE                           23\n",
       "(3101) High Flexcare Handles                15\n",
       "(3104) Mid HealthyWhite Handles             14\n",
       "BD Horizon                                  12\n",
       "SPRIX                                       10\n",
       "(9088) POHC Ventures                        10\n",
       "Essure                                      10\n",
       "ESTRING                                      8\n",
       "Natazia                                      6\n",
       "(3105) Mid Kids Handles                      5\n",
       "PREMPRO                                      5\n",
       "TAYTULLA                                     5\n",
       "NEXTSTELLIS                                  4\n",
       "Skyla                                        4\n",
       "Rhophylac                                    4\n",
       "LYBREL                                       3\n",
       "Antiretroviral Pregnancy Registry            3\n",
       "E4/DRSP                                      2\n",
       "MINASTRIN 24 FE                              2\n",
       "LYSTEDA                                      1\n",
       "XPERT                                        1\n",
       "Safyral                                      1\n",
       "IMPLANON                                     1\n",
       "(3159) Entry Essence Elite handles           1\n",
       "Name: name_of_drug_or_biological_or_device_or_medical_supply_1, dtype: int64"
      ]
     },
     "execution_count": 36,
     "metadata": {},
     "output_type": "execute_result"
    }
   ],
   "source": [
    "womens_drugs.value_counts()"
   ]
  },
  {
   "cell_type": "code",
   "execution_count": 37,
   "metadata": {},
   "outputs": [],
   "source": [
    "womens_drugs2 = data.name_of_drug_or_biological_or_device_or_medical_supply_2"
   ]
  },
  {
   "cell_type": "code",
   "execution_count": 38,
   "metadata": {},
   "outputs": [
    {
     "data": {
      "text/plain": [
       "2020    80770\n",
       "Name: program_year, dtype: int64"
      ]
     },
     "execution_count": 38,
     "metadata": {},
     "output_type": "execute_result"
    }
   ],
   "source": [
    "data.program_year.value_counts()"
   ]
  },
  {
   "cell_type": "code",
   "execution_count": 39,
   "metadata": {},
   "outputs": [
    {
     "data": {
      "text/plain": [
       "count        80770\n",
       "unique          50\n",
       "top       ORILISSA\n",
       "freq         20658\n",
       "Name: name_of_drug_or_biological_or_device_or_medical_supply_1, dtype: object"
      ]
     },
     "execution_count": 39,
     "metadata": {},
     "output_type": "execute_result"
    }
   ],
   "source": [
    "womens_drugs.describe()"
   ]
  },
  {
   "cell_type": "code",
   "execution_count": 40,
   "metadata": {},
   "outputs": [
    {
     "data": {
      "text/plain": [
       "ORILISSA          20658\n",
       "LO LOESTRIN FE    12497\n",
       "ORIAHNN            9117\n",
       "ANNOVERA           8019\n",
       "NEXPLANON          6308\n",
       "Name: name_of_drug_or_biological_or_device_or_medical_supply_1, dtype: int64"
      ]
     },
     "execution_count": 40,
     "metadata": {},
     "output_type": "execute_result"
    }
   ],
   "source": [
    "womens_drugs.value_counts()[0:5]"
   ]
  },
  {
   "cell_type": "code",
   "execution_count": 41,
   "metadata": {},
   "outputs": [
    {
     "data": {
      "text/plain": [
       "56599"
      ]
     },
     "execution_count": 41,
     "metadata": {},
     "output_type": "execute_result"
    }
   ],
   "source": [
    "top_5 = womens_drugs.value_counts()[0:5].sum()\n",
    "top_5"
   ]
  },
  {
   "cell_type": "code",
   "execution_count": 42,
   "metadata": {},
   "outputs": [
    {
     "data": {
      "text/plain": [
       "80770"
      ]
     },
     "execution_count": 42,
     "metadata": {},
     "output_type": "execute_result"
    }
   ],
   "source": [
    "all_drugs = womens_drugs.value_counts().sum()\n",
    "all_drugs"
   ]
  },
  {
   "cell_type": "code",
   "execution_count": 43,
   "metadata": {},
   "outputs": [
    {
     "data": {
      "text/plain": [
       "0.7007428500680946"
      ]
     },
     "execution_count": 43,
     "metadata": {},
     "output_type": "execute_result"
    }
   ],
   "source": [
    "top_5/all_drugs"
   ]
  },
  {
   "cell_type": "code",
   "execution_count": 44,
   "metadata": {},
   "outputs": [
    {
     "data": {
      "text/plain": [
       "6055934.83"
      ]
     },
     "execution_count": 44,
     "metadata": {},
     "output_type": "execute_result"
    }
   ],
   "source": [
    "amount_money = data.total_amount_of_payment_usdollars\n",
    "amount_money.sum()"
   ]
  },
  {
   "cell_type": "code",
   "execution_count": 45,
   "metadata": {},
   "outputs": [
    {
     "data": {
      "text/plain": [
       "WOMENS HEALTH                                  12786\n",
       "Women's Health                                  5015\n",
       "VACCINE                                         3855\n",
       "OBSTETRICSGYNECOLOGY WOMEN'S HEALTH             2804\n",
       "GASTROINTESTINAL                                 977\n",
       "Pre-Natal Care                                    81\n",
       "GENITOURINARY (SEXUAL HEALTH);WOMENS HEALTH       29\n",
       "IMMUNOLOGY                                        14\n",
       "Diabetes Care                                      7\n",
       "INFLAMMATION;PAIN                                  3\n",
       "ENDOCRINOLOGY                                      3\n",
       "Oncology                                           3\n",
       "RETINA                                             2\n",
       "Name: product_category_or_therapeutic_area_2, dtype: int64"
      ]
     },
     "execution_count": 45,
     "metadata": {},
     "output_type": "execute_result"
    }
   ],
   "source": [
    "data.product_category_or_therapeutic_area_2.value_counts()"
   ]
  },
  {
   "cell_type": "code",
   "execution_count": 94,
   "metadata": {},
   "outputs": [
    {
     "data": {
      "text/plain": [
       "REDUCTION OF RISK FOR PRETERM BIRTH    501\n",
       "Name: product_category_or_therapeutic_area_1, dtype: int64"
      ]
     },
     "execution_count": 94,
     "metadata": {},
     "output_type": "execute_result"
    }
   ],
   "source": [
    "makena = pd.read_csv('data-3.csv')\n",
    "makena.product_category_or_therapeutic_area_1.value_counts()"
   ]
  },
  {
   "cell_type": "code",
   "execution_count": 91,
   "metadata": {},
   "outputs": [
    {
     "data": {
      "text/plain": [
       "90178.81"
      ]
     },
     "execution_count": 91,
     "metadata": {},
     "output_type": "execute_result"
    }
   ],
   "source": [
    "data_3.total_amount_of_payment_usdollars.sum()"
   ]
  },
  {
   "cell_type": "code",
   "execution_count": 93,
   "metadata": {},
   "outputs": [
    {
     "data": {
      "text/plain": [
       "MAKENA    501\n",
       "Name: name_of_drug_or_biological_or_device_or_medical_supply_1, dtype: int64"
      ]
     },
     "execution_count": 93,
     "metadata": {},
     "output_type": "execute_result"
    }
   ],
   "source": [
    "data_4 = pd.read_csv('data-4.csv')\n",
    "data_4.name_of_drug_or_biological_or_device_or_medical_supply_1.value_counts()"
   ]
  },
  {
   "cell_type": "code",
   "execution_count": 95,
   "metadata": {},
   "outputs": [
    {
     "data": {
      "text/plain": [
       "TX    65\n",
       "CA    62\n",
       "VA    33\n",
       "OK    29\n",
       "MS    27\n",
       "SC    23\n",
       "NY    22\n",
       "NJ    21\n",
       "NC    21\n",
       "AL    20\n",
       "PA    20\n",
       "FL    18\n",
       "MD    16\n",
       "GA    16\n",
       "OH    15\n",
       "MO    13\n",
       "IL    12\n",
       "IN    12\n",
       "CT     9\n",
       "DE     8\n",
       "WV     7\n",
       "TN     7\n",
       "AZ     5\n",
       "LA     4\n",
       "MI     4\n",
       "NE     3\n",
       "WA     3\n",
       "KY     2\n",
       "WI     1\n",
       "NM     1\n",
       "MA     1\n",
       "SD     1\n",
       "Name: recipient_state, dtype: int64"
      ]
     },
     "execution_count": 95,
     "metadata": {},
     "output_type": "execute_result"
    }
   ],
   "source": [
    "makena.recipient_state.value_counts()"
   ]
  },
  {
   "cell_type": "code",
   "execution_count": null,
   "metadata": {},
   "outputs": [],
   "source": []
  }
 ],
 "metadata": {
  "kernelspec": {
   "display_name": "Python 3",
   "language": "python",
   "name": "python3"
  },
  "language_info": {
   "codemirror_mode": {
    "name": "ipython",
    "version": 3
   },
   "file_extension": ".py",
   "mimetype": "text/x-python",
   "name": "python",
   "nbconvert_exporter": "python",
   "pygments_lexer": "ipython3",
   "version": "3.8.8"
  }
 },
 "nbformat": 4,
 "nbformat_minor": 2
}
